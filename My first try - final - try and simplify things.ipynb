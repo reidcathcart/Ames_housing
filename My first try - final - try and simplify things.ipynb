{
 "cells": [
  {
   "cell_type": "markdown",
   "metadata": {},
   "source": [
    "**Intro**\n",
    "\n",
    "My first attempt at a Kaggle competition. Gets a reasonable score but would love some feedback on how it could be improved."
   ]
  },
  {
   "cell_type": "markdown",
   "metadata": {},
   "source": [
    "**Import everything**"
   ]
  },
  {
   "cell_type": "code",
   "execution_count": 1,
   "metadata": {
    "collapsed": true
   },
   "outputs": [],
   "source": [
    "import pandas as pd\n",
    "import matplotlib.pyplot as plt\n",
    "import seaborn as sns\n",
    "import numpy as np\n",
    "from sklearn.preprocessing import StandardScaler, RobustScaler\n",
    "from scipy import stats\n",
    "from sklearn.model_selection import cross_val_score, train_test_split, KFold \n",
    "from sklearn.linear_model import LinearRegression, RidgeCV, LassoCV, ElasticNetCV, BayesianRidge\n",
    "from sklearn.metrics import mean_squared_error, make_scorer, mean_squared_log_error\n",
    "# from sklearn.pipeline import make_pipeline\n",
    "from sklearn.feature_selection import SelectFromModel\n",
    "from sklearn.ensemble import RandomForestRegressor\n",
    "# from scipy.special import boxcox1p, inv_boxcox1p\n",
    "\n",
    "%matplotlib inline"
   ]
  },
  {
   "cell_type": "markdown",
   "metadata": {},
   "source": [
    "**Read CSV file**"
   ]
  },
  {
   "cell_type": "code",
   "execution_count": 2,
   "metadata": {
    "collapsed": true
   },
   "outputs": [],
   "source": [
    "df_initial_train = pd.read_csv('train.csv')\n",
    "df_train = df_initial_train.copy()\n"
   ]
  },
  {
   "cell_type": "code",
   "execution_count": 3,
   "metadata": {
    "collapsed": true
   },
   "outputs": [],
   "source": [
    "df_initial_test = pd.read_csv('test.csv')\n",
    "df_test = df_initial_test.copy()\n",
    "df_train = pd.concat([df_train, df_test], ignore_index=True)\n"
   ]
  },
  {
   "cell_type": "markdown",
   "metadata": {},
   "source": [
    "**Which features are correlated with each other?**"
   ]
  },
  {
   "cell_type": "code",
   "execution_count": 4,
   "metadata": {},
   "outputs": [
    {
     "data": {
      "text/html": [
       "<div>\n",
       "<style>\n",
       "    .dataframe thead tr:only-child th {\n",
       "        text-align: right;\n",
       "    }\n",
       "\n",
       "    .dataframe thead th {\n",
       "        text-align: left;\n",
       "    }\n",
       "\n",
       "    .dataframe tbody tr th {\n",
       "        vertical-align: top;\n",
       "    }\n",
       "</style>\n",
       "<table border=\"1\" class=\"dataframe\">\n",
       "  <thead>\n",
       "    <tr style=\"text-align: right;\">\n",
       "      <th></th>\n",
       "      <th>Feature1</th>\n",
       "      <th>Feature2</th>\n",
       "      <th>Correlation</th>\n",
       "    </tr>\n",
       "  </thead>\n",
       "  <tbody>\n",
       "    <tr>\n",
       "      <th>5</th>\n",
       "      <td>GarageYrBlt</td>\n",
       "      <td>YearRemodAdd</td>\n",
       "      <td>0.652365</td>\n",
       "    </tr>\n",
       "    <tr>\n",
       "      <th>1</th>\n",
       "      <td>2ndFlrSF</td>\n",
       "      <td>GrLivArea</td>\n",
       "      <td>0.655085</td>\n",
       "    </tr>\n",
       "    <tr>\n",
       "      <th>2</th>\n",
       "      <td>BedroomAbvGr</td>\n",
       "      <td>TotRmsAbvGrd</td>\n",
       "      <td>0.669737</td>\n",
       "    </tr>\n",
       "    <tr>\n",
       "      <th>0</th>\n",
       "      <td>1stFlrSF</td>\n",
       "      <td>TotalBsmtSF</td>\n",
       "      <td>0.801670</td>\n",
       "    </tr>\n",
       "    <tr>\n",
       "      <th>6</th>\n",
       "      <td>GrLivArea</td>\n",
       "      <td>TotRmsAbvGrd</td>\n",
       "      <td>0.808354</td>\n",
       "    </tr>\n",
       "    <tr>\n",
       "      <th>4</th>\n",
       "      <td>GarageYrBlt</td>\n",
       "      <td>YearBuilt</td>\n",
       "      <td>0.834812</td>\n",
       "    </tr>\n",
       "    <tr>\n",
       "      <th>3</th>\n",
       "      <td>GarageArea</td>\n",
       "      <td>GarageCars</td>\n",
       "      <td>0.889700</td>\n",
       "    </tr>\n",
       "  </tbody>\n",
       "</table>\n",
       "</div>"
      ],
      "text/plain": [
       "       Feature1      Feature2  Correlation\n",
       "5   GarageYrBlt  YearRemodAdd     0.652365\n",
       "1      2ndFlrSF     GrLivArea     0.655085\n",
       "2  BedroomAbvGr  TotRmsAbvGrd     0.669737\n",
       "0      1stFlrSF   TotalBsmtSF     0.801670\n",
       "6     GrLivArea  TotRmsAbvGrd     0.808354\n",
       "4   GarageYrBlt     YearBuilt     0.834812\n",
       "3    GarageArea    GarageCars     0.889700"
      ]
     },
     "execution_count": 4,
     "metadata": {},
     "output_type": "execute_result"
    }
   ],
   "source": [
    "corrmat = df_train.drop('SalePrice', axis=1).corr()\n",
    "indices = np.where(corrmat.abs() > 0.65)\n",
    "indices = [(corrmat.index[x], corrmat.columns[y], corrmat.values[x][y])\n",
    "           for x, y in zip(*indices) if x != y and x < y]\n",
    "high_corr = pd.DataFrame(indices, columns=['Feature1', 'Feature2', 'Correlation'])\n",
    "high_corr.sort_values('Correlation')"
   ]
  },
  {
   "cell_type": "markdown",
   "metadata": {},
   "source": [
    "**Which features are correlated with SalePrice?**"
   ]
  },
  {
   "cell_type": "code",
   "execution_count": 5,
   "metadata": {},
   "outputs": [
    {
     "data": {
      "text/plain": [
       "<matplotlib.axes._subplots.AxesSubplot at 0x260f4fce0f0>"
      ]
     },
     "execution_count": 5,
     "metadata": {},
     "output_type": "execute_result"
    },
    {
     "data": {
      "image/png": "[encoded data removed]",
      "text/plain": [
       "<matplotlib.figure.Figure at 0x260f58bd240>"
      ]
     },
     "metadata": {},
     "output_type": "display_data"
    }
   ],
   "source": [
    "corrmat = df_train.corr()\n",
    "indices = corrmat.loc[:,'SalePrice'].copy()\n",
    "a = pd.DataFrame(indices.sort_values())\n",
    "plt.figure(figsize=(1,10))\n",
    "sns.heatmap(a, annot=True)"
   ]
  },
  {
   "cell_type": "markdown",
   "metadata": {},
   "source": [
    "**Show me some plots**"
   ]
  },
  {
   "cell_type": "code",
   "execution_count": 6,
   "metadata": {},
   "outputs": [
    {
     "data": {
      "text/plain": [
       "<matplotlib.axes._subplots.AxesSubplot at 0x260ef31f940>"
      ]
     },
     "execution_count": 6,
     "metadata": {},
     "output_type": "execute_result"
    },
    {
     "data": {
      "image/png": "[encoded data removed]",
      "text/plain": [
       "<matplotlib.figure.Figure at 0x260f556b860>"
      ]
     },
     "metadata": {},
     "output_type": "display_data"
    }
   ],
   "source": [
    "# box plot overallqual/saleprice\n",
    "var = 'OverallQual'\n",
    "data = pd.concat([df_initial_train['SalePrice'], df_initial_train[var]], axis=1)\n",
    "plt.figure(figsize=(10,5))\n",
    "sns.boxplot(x=var, y=\"SalePrice\", data=data)\n"
   ]
  },
  {
   "cell_type": "code",
   "execution_count": 7,
   "metadata": {},
   "outputs": [
    {
     "data": {
      "text/plain": [
       "Neighborhood\n",
       "MeadowV     88000.0\n",
       "IDOTRR     103000.0\n",
       "BrDale     106000.0\n",
       "OldTown    119000.0\n",
       "Edwards    121750.0\n",
       "BrkSide    124300.0\n",
       "Sawyer     135000.0\n",
       "Blueste    137500.0\n",
       "SWISU      139500.0\n",
       "NAmes      140000.0\n",
       "NPkVill    146000.0\n",
       "Mitchel    153500.0\n",
       "SawyerW    179900.0\n",
       "Gilbert    181000.0\n",
       "NWAmes     182900.0\n",
       "Blmngtn    191000.0\n",
       "CollgCr    197200.0\n",
       "ClearCr    200250.0\n",
       "Crawfor    200624.0\n",
       "Veenker    218000.0\n",
       "Somerst    225500.0\n",
       "Timber     228475.0\n",
       "StoneBr    278000.0\n",
       "NoRidge    301500.0\n",
       "NridgHt    315000.0\n",
       "Name: SalePrice, dtype: float64"
      ]
     },
     "execution_count": 7,
     "metadata": {},
     "output_type": "execute_result"
    }
   ],
   "source": [
    "df_train.groupby('Neighborhood')['SalePrice'].median().sort_values()"
   ]
  },
  {
   "cell_type": "code",
   "execution_count": 8,
   "metadata": {},
   "outputs": [
    {
     "data": {
      "text/plain": [
       "<matplotlib.axes._subplots.AxesSubplot at 0x260f577eba8>"
      ]
     },
     "execution_count": 8,
     "metadata": {},
     "output_type": "execute_result"
    },
    {
     "data": {
      "image/png": "[encoded data removed]",
      "text/plain": [
       "<matplotlib.figure.Figure at 0x260f552a128>"
      ]
     },
     "metadata": {},
     "output_type": "display_data"
    }
   ],
   "source": [
    "# box plot build decade/saleprice\n",
    "var = 'Neighborhood'\n",
    "data = pd.concat([df_train['SalePrice'], (df_train[var])], axis=1)\n",
    "plt.figure(figsize=(15,5))\n",
    "sns.boxplot(x=var, y=\"SalePrice\", data=data)"
   ]
  },
  {
   "cell_type": "code",
   "execution_count": 9,
   "metadata": {},
   "outputs": [
    {
     "data": {
      "text/plain": [
       "<matplotlib.axes._subplots.AxesSubplot at 0x260f5887358>"
      ]
     },
     "execution_count": 9,
     "metadata": {},
     "output_type": "execute_result"
    },
    {
     "data": {
      "image/png": "[encoded data removed]",
      "text/plain": [
       "<matplotlib.figure.Figure at 0x260f577ecf8>"
      ]
     },
     "metadata": {},
     "output_type": "display_data"
    }
   ],
   "source": [
    "# box plot Ground Living Area/saleprice\n",
    "var = 'GrLivArea'\n",
    "data = pd.concat([df_train['SalePrice'], (df_train[var]//500)*500], axis=1)\n",
    "plt.figure(figsize=(10,5))\n",
    "sns.boxplot(x=var, y=\"SalePrice\", data=data)"
   ]
  },
  {
   "cell_type": "code",
   "execution_count": 10,
   "metadata": {},
   "outputs": [
    {
     "data": {
      "text/plain": [
       "<seaborn.axisgrid.FacetGrid at 0x260f5cb4208>"
      ]
     },
     "execution_count": 10,
     "metadata": {},
     "output_type": "execute_result"
    },
    {
     "data": {
      "image/png": "[encoded data removed]",
      "text/plain": [
       "<matplotlib.figure.Figure at 0x260f5cb42e8>"
      ]
     },
     "metadata": {},
     "output_type": "display_data"
    }
   ],
   "source": [
    "# scatter plot GrLivArea/saleprice\n",
    "var = 'GrLivArea'\n",
    "hue = 'SaleCondition'\n",
    "data = pd.concat([df_train['SalePrice'], df_train[var], df_train[hue]], axis=1)\n",
    "sns.lmplot(x=var, y=\"SalePrice\", data=data, fit_reg=False, hue=hue, aspect=2, size=5, scatter_kws={\"s\": 25})"
   ]
  },
  {
   "cell_type": "markdown",
   "metadata": {},
   "source": [
    "**Which columns have nulls**"
   ]
  },
  {
   "cell_type": "code",
   "execution_count": 11,
   "metadata": {
    "collapsed": true
   },
   "outputs": [],
   "source": [
    "any_nulls = pd.DataFrame(df_train.isnull().sum())\n",
    "any_nulls = any_nulls[any_nulls>0].dropna()"
   ]
  },
  {
   "cell_type": "code",
   "execution_count": 12,
   "metadata": {},
   "outputs": [
    {
     "data": {
      "text/html": [
       "<div>\n",
       "<style>\n",
       "    .dataframe thead tr:only-child th {\n",
       "        text-align: right;\n",
       "    }\n",
       "\n",
       "    .dataframe thead th {\n",
       "        text-align: left;\n",
       "    }\n",
       "\n",
       "    .dataframe tbody tr th {\n",
       "        vertical-align: top;\n",
       "    }\n",
       "</style>\n",
       "<table border=\"1\" class=\"dataframe\">\n",
       "  <thead>\n",
       "    <tr style=\"text-align: right;\">\n",
       "      <th></th>\n",
       "      <th>0</th>\n",
       "    </tr>\n",
       "  </thead>\n",
       "  <tbody>\n",
       "    <tr>\n",
       "      <th>Alley</th>\n",
       "      <td>2721.0</td>\n",
       "    </tr>\n",
       "    <tr>\n",
       "      <th>BsmtCond</th>\n",
       "      <td>82.0</td>\n",
       "    </tr>\n",
       "    <tr>\n",
       "      <th>BsmtExposure</th>\n",
       "      <td>82.0</td>\n",
       "    </tr>\n",
       "    <tr>\n",
       "      <th>BsmtFinSF1</th>\n",
       "      <td>1.0</td>\n",
       "    </tr>\n",
       "    <tr>\n",
       "      <th>BsmtFinSF2</th>\n",
       "      <td>1.0</td>\n",
       "    </tr>\n",
       "    <tr>\n",
       "      <th>BsmtFinType1</th>\n",
       "      <td>79.0</td>\n",
       "    </tr>\n",
       "    <tr>\n",
       "      <th>BsmtFinType2</th>\n",
       "      <td>80.0</td>\n",
       "    </tr>\n",
       "    <tr>\n",
       "      <th>BsmtFullBath</th>\n",
       "      <td>2.0</td>\n",
       "    </tr>\n",
       "    <tr>\n",
       "      <th>BsmtHalfBath</th>\n",
       "      <td>2.0</td>\n",
       "    </tr>\n",
       "    <tr>\n",
       "      <th>BsmtQual</th>\n",
       "      <td>81.0</td>\n",
       "    </tr>\n",
       "    <tr>\n",
       "      <th>BsmtUnfSF</th>\n",
       "      <td>1.0</td>\n",
       "    </tr>\n",
       "    <tr>\n",
       "      <th>Electrical</th>\n",
       "      <td>1.0</td>\n",
       "    </tr>\n",
       "    <tr>\n",
       "      <th>Exterior1st</th>\n",
       "      <td>1.0</td>\n",
       "    </tr>\n",
       "    <tr>\n",
       "      <th>Exterior2nd</th>\n",
       "      <td>1.0</td>\n",
       "    </tr>\n",
       "    <tr>\n",
       "      <th>Fence</th>\n",
       "      <td>2348.0</td>\n",
       "    </tr>\n",
       "    <tr>\n",
       "      <th>FireplaceQu</th>\n",
       "      <td>1420.0</td>\n",
       "    </tr>\n",
       "    <tr>\n",
       "      <th>Functional</th>\n",
       "      <td>2.0</td>\n",
       "    </tr>\n",
       "    <tr>\n",
       "      <th>GarageArea</th>\n",
       "      <td>1.0</td>\n",
       "    </tr>\n",
       "    <tr>\n",
       "      <th>GarageCars</th>\n",
       "      <td>1.0</td>\n",
       "    </tr>\n",
       "    <tr>\n",
       "      <th>GarageCond</th>\n",
       "      <td>159.0</td>\n",
       "    </tr>\n",
       "    <tr>\n",
       "      <th>GarageFinish</th>\n",
       "      <td>159.0</td>\n",
       "    </tr>\n",
       "    <tr>\n",
       "      <th>GarageQual</th>\n",
       "      <td>159.0</td>\n",
       "    </tr>\n",
       "    <tr>\n",
       "      <th>GarageType</th>\n",
       "      <td>157.0</td>\n",
       "    </tr>\n",
       "    <tr>\n",
       "      <th>GarageYrBlt</th>\n",
       "      <td>159.0</td>\n",
       "    </tr>\n",
       "    <tr>\n",
       "      <th>KitchenQual</th>\n",
       "      <td>1.0</td>\n",
       "    </tr>\n",
       "    <tr>\n",
       "      <th>LotFrontage</th>\n",
       "      <td>486.0</td>\n",
       "    </tr>\n",
       "    <tr>\n",
       "      <th>MSZoning</th>\n",
       "      <td>4.0</td>\n",
       "    </tr>\n",
       "    <tr>\n",
       "      <th>MasVnrArea</th>\n",
       "      <td>23.0</td>\n",
       "    </tr>\n",
       "    <tr>\n",
       "      <th>MasVnrType</th>\n",
       "      <td>24.0</td>\n",
       "    </tr>\n",
       "    <tr>\n",
       "      <th>MiscFeature</th>\n",
       "      <td>2814.0</td>\n",
       "    </tr>\n",
       "    <tr>\n",
       "      <th>PoolQC</th>\n",
       "      <td>2909.0</td>\n",
       "    </tr>\n",
       "    <tr>\n",
       "      <th>SalePrice</th>\n",
       "      <td>1459.0</td>\n",
       "    </tr>\n",
       "    <tr>\n",
       "      <th>SaleType</th>\n",
       "      <td>1.0</td>\n",
       "    </tr>\n",
       "    <tr>\n",
       "      <th>TotalBsmtSF</th>\n",
       "      <td>1.0</td>\n",
       "    </tr>\n",
       "    <tr>\n",
       "      <th>Utilities</th>\n",
       "      <td>2.0</td>\n",
       "    </tr>\n",
       "  </tbody>\n",
       "</table>\n",
       "</div>"
      ],
      "text/plain": [
       "                   0\n",
       "Alley         2721.0\n",
       "BsmtCond        82.0\n",
       "BsmtExposure    82.0\n",
       "BsmtFinSF1       1.0\n",
       "BsmtFinSF2       1.0\n",
       "BsmtFinType1    79.0\n",
       "BsmtFinType2    80.0\n",
       "BsmtFullBath     2.0\n",
       "BsmtHalfBath     2.0\n",
       "BsmtQual        81.0\n",
       "BsmtUnfSF        1.0\n",
       "Electrical       1.0\n",
       "Exterior1st      1.0\n",
       "Exterior2nd      1.0\n",
       "Fence         2348.0\n",
       "FireplaceQu   1420.0\n",
       "Functional       2.0\n",
       "GarageArea       1.0\n",
       "GarageCars       1.0\n",
       "GarageCond     159.0\n",
       "GarageFinish   159.0\n",
       "GarageQual     159.0\n",
       "GarageType     157.0\n",
       "GarageYrBlt    159.0\n",
       "KitchenQual      1.0\n",
       "LotFrontage    486.0\n",
       "MSZoning         4.0\n",
       "MasVnrArea      23.0\n",
       "MasVnrType      24.0\n",
       "MiscFeature   2814.0\n",
       "PoolQC        2909.0\n",
       "SalePrice     1459.0\n",
       "SaleType         1.0\n",
       "TotalBsmtSF      1.0\n",
       "Utilities        2.0"
      ]
     },
     "execution_count": 12,
     "metadata": {},
     "output_type": "execute_result"
    }
   ],
   "source": [
    "any_nulls"
   ]
  },
  {
   "cell_type": "markdown",
   "metadata": {},
   "source": [
    "**Convert Nulls**"
   ]
  },
  {
   "cell_type": "code",
   "execution_count": 13,
   "metadata": {
    "collapsed": true
   },
   "outputs": [],
   "source": [
    "# Change Lot Frontage from NA to 0\n",
    "df_train.loc[:, \"LotFrontage\"] = df_train.loc[:, \"LotFrontage\"].fillna(0)\n",
    "# Change Alley from NA to None\n",
    "df_train.loc[:, \"Alley\"] = df_train.loc[:, \"Alley\"].fillna(\"None\")\n",
    "# Change Masonry veneer type from NA to None\n",
    "df_train.loc[:, \"MasVnrType\"] = df_train.loc[:, \"MasVnrType\"].fillna(\"None\")\n",
    "# Change Masonry veneer area from NA to 0\n",
    "df_train.loc[:, \"MasVnrArea\"] = df_train.loc[:, \"MasVnrArea\"].fillna(0)\n",
    "# Change 333 Basement Finish Type 2 to Unf (same as Type 1)\n",
    "df_train.loc[332, \"BsmtFinType2\"] = 'Unf'\n",
    "# Change Basement Quality from NaN to None\n",
    "df_train.loc[:, \"BsmtQual\"] = df_train.loc[:, \"BsmtQual\"].fillna(\"None\")\n",
    "# Change Basement Condition from NaN to None\n",
    "df_train.loc[:, \"BsmtCond\"] = df_train.loc[:, \"BsmtCond\"].fillna(\"None\")\n",
    "# Change Basement Finish Type 1 and 2 from NaN to None\n",
    "df_train.loc[:, \"BsmtFinType1\"] = df_train.loc[:, \"BsmtFinType1\"].fillna(\"None\")\n",
    "df_train.loc[:, \"BsmtFinType2\"] = df_train.loc[:, \"BsmtFinType2\"].fillna(\"None\")\n",
    "# Change Basement Exposure from NaN to None\n",
    "df_train.loc[:, \"BsmtExposure\"] = df_train.loc[:, \"BsmtExposure\"].fillna(\"None\")\n",
    "# Change Fireplace Quality from NaN to None\n",
    "df_train.loc[:, \"FireplaceQu\"] = df_train.loc[:, \"FireplaceQu\"].fillna(\"None\")\n",
    "# Change Garage Type from NaN to None\n",
    "df_train.loc[:, \"GarageType\"] = df_train.loc[:, \"GarageType\"].fillna(\"None\")\n",
    "# Change Garage Finish from NaN to None\n",
    "df_train.loc[:, \"GarageFinish\"] = df_train.loc[:, \"GarageFinish\"].fillna(\"None\")\n",
    "# Change Garage Quality from NaN to None\n",
    "df_train.loc[:, \"GarageQual\"] = df_train.loc[:, \"GarageQual\"].fillna(\"None\")\n",
    "# Change Garage Condition from NaN to None\n",
    "df_train.loc[:, \"GarageCond\"] = df_train.loc[:, \"GarageCond\"].fillna(\"None\")\n",
    "# Change Pool Quality from NaN to None\n",
    "df_train.loc[:, \"PoolQC\"] = df_train.loc[:, \"PoolQC\"].fillna(\"None\")\n",
    "# Change Fence from NaN to None\n",
    "df_train.loc[:, \"Fence\"] = df_train.loc[:, \"Fence\"].fillna(\"None\")\n",
    "# Change Misc Feature from NaN to None\n",
    "df_train.loc[:, \"MiscFeature\"] = df_train.loc[:, \"MiscFeature\"].fillna(\"None\")\n",
    "# Change Garage Year built to same as Year Built\n",
    "df_train.loc[:, \"GarageYrBlt\"] = df_train.loc[:, \"GarageYrBlt\"].fillna(df_train['YearBuilt'])\n",
    "\n",
    "# Additional required for test data\n",
    "# Change MSZoning from NaN to RL (most common)\n",
    "df_train.loc[:, \"MSZoning\"] = df_train.loc[:, \"MSZoning\"].fillna(\"RL\")\n",
    "# Change Utilities from NaN to AllPub (most common)\n",
    "df_train.loc[:, \"Utilities\"] = df_train.loc[:, \"Utilities\"].fillna(\"AllPub\")\n",
    "# Change basement NaN to 0 as its all for one record\n",
    "df_train.loc[:, \"BsmtFinSF1\"] = df_train.loc[:, \"BsmtFinSF1\"].fillna(0)\n",
    "df_train.loc[:, \"BsmtFinSF2\"] = df_train.loc[:, \"BsmtFinSF2\"].fillna(0)\n",
    "df_train.loc[:, \"BsmtUnfSF\"] = df_train.loc[:, \"BsmtUnfSF\"].fillna(0)\n",
    "df_train.loc[:, \"TotalBsmtSF\"] = df_train.loc[:, \"TotalBsmtSF\"].fillna(0)\n",
    "df_train.loc[:, \"BsmtFullBath\"] = df_train.loc[:, \"BsmtFullBath\"].fillna(0)\n",
    "df_train.loc[:, \"BsmtHalfBath\"] = df_train.loc[:, \"BsmtHalfBath\"].fillna(0)\n",
    "# Change Siding from NaN to VinylSd as its the most common\n",
    "df_train.loc[:, \"Exterior1st\"] = df_train.loc[:, \"Exterior1st\"].fillna(\"VinylSd\")\n",
    "df_train.loc[:, \"Exterior2nd\"] = df_train.loc[:, \"Exterior2nd\"].fillna(\"VinylSd\")\n",
    "# Change KitchenQual from NaN to TA as its the most common\n",
    "df_train.loc[:, \"KitchenQual\"] = df_train.loc[:, \"KitchenQual\"].fillna(\"TA\")\n",
    "# Change Functional from NaN to Typ as its the most common\n",
    "df_train.loc[:, \"Functional\"] = df_train.loc[:, \"Functional\"].fillna(\"Typ\")\n",
    "# Change Garage from NaN to the mean\n",
    "df_train.loc[:, \"GarageCars\"] = df_train.loc[:, \"GarageCars\"].fillna(df_train['GarageCars'].mean())\n",
    "df_train.loc[:, \"GarageArea\"] = df_train.loc[:, \"GarageArea\"].fillna(df_train['GarageArea'].mean())\n",
    "# Change SaleType from NaN to WD as its the most common\n",
    "df_train.loc[:, \"SaleType\"] = df_train.loc[:, \"SaleType\"].fillna(\"WD\")\n",
    "# change 2550 as its year sold is earlier than year built\n",
    "df_train.loc[2549, \"YearBuilt\"] = 2007\n",
    "df_train.loc[2549, \"YearRemodAdd\"] = 2007\n",
    "# change 2296 as its year sold is earlier than remodel\n",
    "df_train.loc[2295, \"YearRemodAdd\"] = 2007"
   ]
  },
  {
   "cell_type": "markdown",
   "metadata": {},
   "source": [
    "**Convert categorical features to strings**\n",
    "\n",
    "From *A study on Regression applied to the Ames dataset*"
   ]
  },
  {
   "cell_type": "code",
   "execution_count": 14,
   "metadata": {
    "collapsed": true
   },
   "outputs": [],
   "source": [
    "df_train = df_train.replace({\"MSSubClass\" : {20 : \"SC20\", 30 : \"SC30\", 40 : \"SC40\", 45 : \"SC45\", \n",
    "                                       50 : \"SC50\", 60 : \"SC60\", 70 : \"SC70\", 75 : \"SC75\", \n",
    "                                       80 : \"SC80\", 85 : \"SC85\", 90 : \"SC90\", 120 : \"SC120\", \n",
    "                                       150 : \"SC150\", 160 : \"SC160\", 180 : \"SC180\", 190 : \"SC190\"},\n",
    "                                 \"MoSold\" : {1 : \"Jan\", 2 : \"Feb\", 3 : \"Mar\", 4 : \"Apr\", 5 : \"May\", 6 : \"Jun\",\n",
    "                                       7 : \"Jul\", 8 : \"Aug\", 9 : \"Sep\", 10 : \"Oct\", 11 : \"Nov\", 12 : \"Dec\"}\n",
    "                            })"
   ]
  },
  {
   "cell_type": "markdown",
   "metadata": {},
   "source": [
    "**Other engineered features**"
   ]
  },
  {
   "cell_type": "code",
   "execution_count": 15,
   "metadata": {},
   "outputs": [],
   "source": [
    "df_train[\"TotalHouseBsmtSF\"] = df_train[\"1stFlrSF\"] + df_train[\"2ndFlrSF\"] + df_train[\"TotalBsmtSF\"]\n",
    "df_train[\"TotalBathrooms\"] = df_train[\"BsmtFullBath\"] + (0.5* df_train[\"BsmtHalfBath\"]) + df_train[\"FullBath\"] + (0.5*df_train[\"HalfBath\"])\n",
    "df_train[\"TotalHouseRooms\"] = df_train[\"TotalBathrooms\"] + df_train[\"TotRmsAbvGrd\"]\n",
    "df_train[\"AvgRoomSize\"] = df_train[\"TotalHouseBsmtSF\"] / df_train[\"TotalHouseRooms\"] \n",
    "df_train[\"AgeAtSale\"] = df_train[\"YrSold\"] - df_train[\"YearBuilt\"]\n",
    "df_train[\"YrsAfterRenoSold\"] = df_train[\"YrSold\"] - df_train[\"YearRemodAdd\"]\n",
    "df_train[\"SFperGarage\"] = df_train[\"TotalHouseBsmtSF\"] / (df_train[\"GarageCars\"]+1)"
   ]
  },
  {
   "cell_type": "code",
   "execution_count": 16,
   "metadata": {},
   "outputs": [],
   "source": [
    "# Neighborhood comparison\n",
    "neighborhood_means = df_train.groupby([\"Neighborhood\"]).mean()\n",
    "# Lot Area SF compared to neighbohood\n",
    "df_train[\"LotArea_Neighborhood\"]= df_train[\"Neighborhood\"].apply(lambda x: neighborhood_means.loc[x,\"LotArea\"])\n",
    "df_train[\"LotArea_Neighborhood\"]= (df_train[\"LotArea\"] > df_train[\"LotArea_Neighborhood\"])/df_train[\"LotArea_Neighborhood\"]\n",
    "# House + Basement SF compared to neighbohood\n",
    "df_train[\"TotalHouseBsmtSF_Neighborhood\"]= df_train[\"Neighborhood\"].apply(lambda x: neighborhood_means.loc[x,\"TotalHouseBsmtSF\"])\n",
    "df_train[\"TotalHouseBsmtSF_Neighborhood\"]= (df_train[\"TotalHouseBsmtSF\"] > df_train[\"TotalHouseBsmtSF_Neighborhood\"])/df_train[\"TotalHouseBsmtSF_Neighborhood\"]\n",
    "# Age of house vs Neighborhood\n",
    "df_train[\"YearBuilt_Neigborhood\"]= df_train[\"Neighborhood\"].apply(lambda x: neighborhood_means.loc[x,\"YearBuilt\"])\n",
    "df_train[\"YearBuilt_Neigborhood\"]= (df_train[\"YearBuilt\"] > (df_train[\"YearBuilt_Neigborhood\"]))\n",
    "# Age of renovation vs Neighborhood\n",
    "df_train[\"YearRemodAdd_Neigborhood\"]= df_train[\"Neighborhood\"].apply(lambda x: neighborhood_means.loc[x,\"YearRemodAdd\"])\n",
    "df_train[\"YearRemodAdd_Neigborhood\"]= (df_train[\"YearRemodAdd\"] > (df_train[\"YearRemodAdd_Neigborhood\"]))\n",
    "# Overall Quality vs Neighborhood\n",
    "df_train[\"OverallQual_Neigborhood\"]= df_train[\"Neighborhood\"].apply(lambda x: neighborhood_means.loc[x,\"OverallQual\"])\n",
    "df_train[\"OverallQual_Neigborhood\"]= (df_train[\"OverallQual\"] > (df_train[\"OverallQual_Neigborhood\"]))\n",
    "# Overall Condition vs Neighborhood\n",
    "df_train[\"OverallCond_Neigborhood\"]= df_train[\"Neighborhood\"].apply(lambda x: neighborhood_means.loc[x,\"OverallCond\"])\n",
    "df_train[\"OverallCond_Neigborhood\"]= (df_train[\"OverallCond\"] > (df_train[\"OverallCond_Neigborhood\"]))\n",
    "# Room size vs Neighborhood\n",
    "df_train[\"AvgRoomSize_Neigborhood\"]= df_train[\"Neighborhood\"].apply(lambda x: neighborhood_means.loc[x,\"AvgRoomSize\"])\n",
    "df_train[\"AvgRoomSize_Neigborhood\"]= (df_train[\"AvgRoomSize\"] > (df_train[\"AvgRoomSize_Neigborhood\"]))"
   ]
  },
  {
   "cell_type": "code",
   "execution_count": 17,
   "metadata": {},
   "outputs": [
    {
     "data": {
      "text/plain": [
       "<matplotlib.axes._subplots.AxesSubplot at 0x260f5f960f0>"
      ]
     },
     "execution_count": 17,
     "metadata": {},
     "output_type": "execute_result"
    },
    {
     "data": {
      "image/png": "[encoded data removed]",
      "text/plain": [
       "<matplotlib.figure.Figure at 0x260f58bd320>"
      ]
     },
     "metadata": {},
     "output_type": "display_data"
    }
   ],
   "source": [
    "corrmat = df_train.corr()\n",
    "indices = corrmat.loc[:,'SalePrice'].copy()\n",
    "a = pd.DataFrame(indices.sort_values(ascending=False))\n",
    "plt.figure(figsize=(1,13))\n",
    "sns.heatmap(a, annot=True)"
   ]
  },
  {
   "cell_type": "markdown",
   "metadata": {},
   "source": [
    "**Drop crappy data**\n",
    "\n",
    "Tried including more SaleTypes and Saleconditions but normal seemed to work better"
   ]
  },
  {
   "cell_type": "code",
   "execution_count": 18,
   "metadata": {
    "collapsed": true
   },
   "outputs": [],
   "source": [
    "# Drop 949 as has a basement but NA for exposure\n",
    "df_train.drop(948, inplace=True)\n",
    "\n",
    "\n",
    "# Drop 1380 as no electrical\n",
    "df_train.drop(1379, inplace=True)\n",
    "# Drop those entries that have lot area larger than 100000ft (but keep all \"test\" data)\n",
    "df_train = df_train[(df_train['LotArea'] < 100000) | (df_train['Id'].isin(df_test[\"Id\"]))]\n",
    "# Only include sales where house is in normal condition (but keep all \"test\" data)\n",
    "df_train = df_train[(df_train['SaleCondition'] == 'Normal') | (df_train['Id'].isin(df_test[\"Id\"]))]\n",
    "# Only include conventional sales(but keep all \"test\" data)\n",
    "df_train = df_train[(df_train['SaleType'] == 'WD') | (df_train['Id'].isin(df_test[\"Id\"]))]"
   ]
  },
  {
   "cell_type": "markdown",
   "metadata": {},
   "source": [
    "**Drop other features**"
   ]
  },
  {
   "cell_type": "code",
   "execution_count": 19,
   "metadata": {
    "collapsed": true
   },
   "outputs": [],
   "source": [
    "# Drop MiscVal as it contains different types of data\n",
    "df_train.drop('MiscVal', axis=1, inplace=True)\n",
    "# Add target variable and drop Sale Price\n",
    "y_SalePrice = pd.DataFrame(df_train['SalePrice'], columns=['SalePrice']).dropna().copy()\n",
    "df_train.drop('SalePrice', axis=1, inplace=True)"
   ]
  },
  {
   "cell_type": "markdown",
   "metadata": {},
   "source": [
    "**Remove skewness in numeric features**"
   ]
  },
  {
   "cell_type": "code",
   "execution_count": 23,
   "metadata": {},
   "outputs": [],
   "source": [
    "# Get numeric features of current df_train\n",
    "numeric_feats = df_train.dtypes[(df_train.dtypes != \"object\") & (df_train.dtypes != \"bool\")].index\n",
    "\n",
    "# Update columns with log1p if skewness  .1\n",
    "skewed = df_train[numeric_feats].apply(lambda x: abs(stats.skew(x.dropna()))) #compute skewness\n",
    "\n",
    "# drop Id column\n",
    "skewed = skewed.drop(['Id'])\n",
    "skewed_feats = skewed[(skewed>.1)].index\n",
    "\n",
    "df_train[skewed_feats] = np.log1p(df_train[skewed_feats])\n",
    "\n",
    "y_SalePrice = np.log1p(y_SalePrice)"
   ]
  },
  {
   "cell_type": "markdown",
   "metadata": {},
   "source": [
    "**Get dummies for categorical features**"
   ]
  },
  {
   "cell_type": "code",
   "execution_count": 24,
   "metadata": {
    "collapsed": true
   },
   "outputs": [],
   "source": [
    "cat_feats = df_train.dtypes[(df_train.dtypes == \"object\") | (df_train.dtypes == \"bool\")].index\n",
    "\n",
    "df_train_cat = pd.get_dummies(df_train.loc[:,cat_feats])\n",
    "df_train_num = df_train.loc[:,numeric_feats].copy()\n",
    "df_train = pd.concat([df_train_num,df_train_cat], axis=1)"
   ]
  },
  {
   "cell_type": "markdown",
   "metadata": {
    "collapsed": true
   },
   "source": [
    "**Create new Polynomials on some top existing features**\n",
    "\n",
    "Am I meant to create these before or after normalizing?"
   ]
  },
  {
   "cell_type": "markdown",
   "metadata": {},
   "source": [
    "**Split out the testing and training data again**"
   ]
  },
  {
   "cell_type": "code",
   "execution_count": 25,
   "metadata": {
    "collapsed": true
   },
   "outputs": [],
   "source": [
    "df_test = df_train[df_train['Id'].isin(df_test['Id'])].copy()\n",
    "df_train = df_train[df_train['Id'].isin(df_initial_train['Id'])]"
   ]
  },
  {
   "cell_type": "markdown",
   "metadata": {},
   "source": [
    "**Scaled dataframe**"
   ]
  },
  {
   "cell_type": "code",
   "execution_count": 26,
   "metadata": {},
   "outputs": [],
   "source": [
    "# Scale the numerical features to create a scaled df for SelectFromModel\n",
    "scaler = RobustScaler()\n",
    "df_train_scaled = df_train.copy()\n",
    "df_train_scaled.loc[:,:] = scaler.fit_transform(df_train.loc[:,:])"
   ]
  },
  {
   "cell_type": "markdown",
   "metadata": {},
   "source": [
    "**Define some functions to help with predictions**\n",
    "\n",
    "Borrowed from some of this from *A study on Regression applied to the Ames dataset*"
   ]
  },
  {
   "cell_type": "code",
   "execution_count": 27,
   "metadata": {
    "collapsed": true
   },
   "outputs": [],
   "source": [
    "def format_good_features(good_feats, df):\n",
    "    #Format the Dataframe with only the good features selected from the SelectFromModel\n",
    "    \n",
    "    good_feats_index = good_feats.get_support()\n",
    "    good_feats_columns = df.columns[good_feats_index]\n",
    "    \n",
    "    return df.loc[:,good_feats_columns]"
   ]
  },
  {
   "cell_type": "code",
   "execution_count": 28,
   "metadata": {
    "collapsed": true
   },
   "outputs": [],
   "source": [
    "def split_scale(X, y, scaler_function=RobustScaler()):\n",
    "    # train_test_split then scale the features  \n",
    "    \n",
    "    X_train, X_test, y_train, y_test = train_test_split(X.copy(), y.copy(), test_size=0.3, random_state=42)\n",
    "\n",
    "    scaler2 = scaler_function\n",
    "    X_train.loc[:,:] = scaler2.fit_transform(X_train.loc[:,:])\n",
    "    X_test.loc[:,:] = scaler2.fit_transform(X_test.loc[:,:])\n",
    "    \n",
    "    return X_train, X_test, y_train, y_test"
   ]
  },
  {
   "cell_type": "code",
   "execution_count": 29,
   "metadata": {
    "collapsed": true
   },
   "outputs": [],
   "source": [
    "def centered_alpha(alpha):\n",
    "    # Get new alphas for testing centered around previous best alpha\n",
    "    \n",
    "    return np.ravel([alpha * .6, alpha * .65, alpha * .7, alpha * .75, alpha * .8, alpha * .85, alpha * .9, alpha * .95, \n",
    "              alpha, alpha * 1.05, alpha * 1.1, alpha * 1.15, alpha * 1.25, alpha * 1.3, alpha * 1.35, alpha * 1.4])"
   ]
  },
  {
   "cell_type": "code",
   "execution_count": 30,
   "metadata": {
    "collapsed": true
   },
   "outputs": [],
   "source": [
    "def output_findings(model, name, df_train, y_test, y_train, column_name, y_train_model, y_test_model):\n",
    "    # Output a plot of important coefficients and show the RMSE for the training and test data\n",
    "    \n",
    "    # Plot important coefficients\n",
    "    coefs = pd.Series(np.ravel(model.coef_), index = np.ravel(df_train.columns))\n",
    "    print(name + \" picked \" + str(sum(coefs != 0)) + \" features and eliminated the other \" +  \\\n",
    "          str(sum(coefs == 0)) + \" features\")\n",
    "    imp_coefs = pd.concat([coefs.sort_values().head(10),\n",
    "                         coefs.sort_values().tail(10)])\n",
    "    imp_coefs.plot(kind = \"barh\")\n",
    "    plt.title(\"Coefficients in the \"+ name + \" Model\")\n",
    "    plt.show()\n",
    "\n",
    "    #Show RMSE\n",
    "    print(\"RMSE Training Data:\",np.sqrt(mean_squared_error(np.log1p(np.expm1(y_train)),\n",
    "                                                           np.log1p(np.expm1(y_train_model)))))\n",
    "    print(\"RMSE Testing Data: \",np.sqrt(mean_squared_error(np.log1p(np.expm1(y_test)),\n",
    "                                                           np.log1p(np.expm1(y_test_model)))))"
   ]
  },
  {
   "cell_type": "markdown",
   "metadata": {},
   "source": [
    "**RidgeCV**"
   ]
  },
  {
   "cell_type": "code",
   "execution_count": 31,
   "metadata": {},
   "outputs": [
    {
     "name": "stdout",
     "output_type": "stream",
     "text": [
      "Best alpha : 2\n",
      "Try again for more precision with alphas centered around 2\n",
      "Best alpha : 2.6\n",
      "RidgeCV picked 124 features and eliminated the other 1 features\n"
     ]
    },
    {
     "data": {
      "image/png": "[encoded data removed]",
      "text/plain": [
       "<matplotlib.figure.Figure at 0x260f72b1978>"
      ]
     },
     "metadata": {},
     "output_type": "display_data"
    },
    {
     "name": "stdout",
     "output_type": "stream",
     "text": [
      "RMSE Training Data: 0.0743596123226\n",
      "RMSE Testing Data:  0.0933989115819\n"
     ]
    }
   ],
   "source": [
    "# Set initial variables\n",
    "alphas = [.3, 1, 2, 5, 10, 100]\n",
    "cv = KFold(20,True,42)\n",
    "gcv_mode = 'auto'\n",
    "scoring = 'neg_mean_squared_error'\n",
    "\n",
    "#Features based on SelectFromModel(RidgeCV)\n",
    "clf = RidgeCV(alphas = alphas, cv=cv, gcv_mode=gcv_mode, scoring=scoring)\n",
    "good_feats_ridge = SelectFromModel(clf,threshold=\"mean\").fit(df_train_scaled,y_SalePrice)\n",
    "\n",
    "# Format training data\n",
    "df_train_ridge = format_good_features(good_feats_ridge, df_train)\n",
    "\n",
    "# train_test_split and scale\n",
    "X_train, X_test, y_train, y_test = split_scale(df_train_ridge, y_SalePrice, scaler_function=RobustScaler())\n",
    "\n",
    "# Run RidgeCV to find best alphas\n",
    "ridge = RidgeCV(alphas = alphas, cv=cv, gcv_mode=gcv_mode, scoring=scoring)\n",
    "ridge.fit(X_train, y_train)\n",
    "alpha = ridge.alpha_\n",
    "print(\"Best alpha :\", alpha)\n",
    "\n",
    "# Get even better alphas\n",
    "print(\"Try again for more precision with alphas centered around \" + str(alpha))\n",
    "ridge = RidgeCV(alphas = centered_alpha(alpha), cv = cv, gcv_mode=gcv_mode, scoring=scoring)\n",
    "ridge.fit(X_train, y_train)\n",
    "alpha = ridge.alpha_\n",
    "print(\"Best alpha :\", alpha)\n",
    "\n",
    "# Run predictions\n",
    "y_train_ridge = ridge.predict(X_train)\n",
    "y_test_ridge = ridge.predict(X_test)\n",
    "\n",
    "# Output findings\n",
    "output_findings(ridge, \"RidgeCV\", df_train_ridge, y_test, y_train, \"SalePrice\", y_train_ridge, y_test_ridge)\n"
   ]
  },
  {
   "cell_type": "markdown",
   "metadata": {},
   "source": [
    "**LassoCV**"
   ]
  },
  {
   "cell_type": "code",
   "execution_count": 32,
   "metadata": {},
   "outputs": [
    {
     "name": "stderr",
     "output_type": "stream",
     "text": [
      "C:\\Anaconda3\\lib\\site-packages\\sklearn\\linear_model\\coordinate_descent.py:491: ConvergenceWarning: Objective did not converge. You might want to increase the number of iterations. Fitting data with very small alpha may cause precision problems.\n",
      "  ConvergenceWarning)\n"
     ]
    },
    {
     "name": "stdout",
     "output_type": "stream",
     "text": [
      "Best alpha : 0.0001\n",
      "Try again for more precision with alphas centered around 0.0001\n",
      "Best alpha : 0.000125\n",
      "LassoCV picked 78 features and eliminated the other 3 features\n"
     ]
    },
    {
     "data": {
      "image/png": "[encoded data removed]",
      "text/plain": [
       "<matplotlib.figure.Figure at 0x260ef385a58>"
      ]
     },
     "metadata": {},
     "output_type": "display_data"
    },
    {
     "name": "stdout",
     "output_type": "stream",
     "text": [
      "RMSE Training Data: 0.0759711587397\n",
      "RMSE Testing Data:  0.0942417269157\n"
     ]
    }
   ],
   "source": [
    "# Set initial variables\n",
    "alphas = [.00001, .00003, .0001, .0003]\n",
    "max_iter = 15000\n",
    "cv = KFold(10,True,42)\n",
    "\n",
    "#Features based on SelectFromModel(LassoCV)\n",
    "clf = LassoCV(alphas = np.ravel(alphas), max_iter = max_iter, cv = cv)\n",
    "good_feats_lasso = SelectFromModel(clf,threshold=\"mean\").fit(df_train_scaled,np.ravel(y_SalePrice))\n",
    "\n",
    "# Format training data\n",
    "df_train_lasso = format_good_features(good_feats_lasso, df_train)\n",
    "\n",
    "# train_test_split and scale\n",
    "X_train, X_test, y_train, y_test = split_scale(df_train_lasso, y_SalePrice)\n",
    "\n",
    "# Run LassoCV to find best alphas\n",
    "lasso = LassoCV(alphas = np.ravel(alphas), max_iter = max_iter, cv = cv)\n",
    "lasso.fit(X_train, np.ravel(y_train))\n",
    "alpha = lasso.alpha_\n",
    "print(\"Best alpha :\", alpha)\n",
    "\n",
    "# Get even better alphas\n",
    "print(\"Try again for more precision with alphas centered around \" + str(alpha))\n",
    "lasso = LassoCV(alphas = np.ravel(centered_alpha(alpha)), max_iter = max_iter, cv = cv)\n",
    "lasso.fit(X_train, np.ravel(y_train))\n",
    "alpha = lasso.alpha_\n",
    "print(\"Best alpha :\", alpha)\n",
    "\n",
    "# Run predictions\n",
    "y_train_lasso = lasso.predict(X_train)\n",
    "y_test_lasso = lasso.predict(X_test)\n",
    "\n",
    "# Output findings\n",
    "output_findings(lasso, \"LassoCV\", df_train_lasso, y_test, y_train, \"SalePrice\", y_train_lasso, y_test_lasso)"
   ]
  },
  {
   "cell_type": "markdown",
   "metadata": {},
   "source": [
    "**BayesianRidge**"
   ]
  },
  {
   "cell_type": "code",
   "execution_count": 33,
   "metadata": {},
   "outputs": [
    {
     "name": "stdout",
     "output_type": "stream",
     "text": [
      "Convergence after  10  iterations\n",
      "BayesianRidge picked 126 features and eliminated the other 0 features\n"
     ]
    },
    {
     "data": {
      "image/png": "[encoded data removed]",
      "text/plain": [
       "<matplotlib.figure.Figure at 0x260f72178d0>"
      ]
     },
     "metadata": {},
     "output_type": "display_data"
    },
    {
     "name": "stdout",
     "output_type": "stream",
     "text": [
      "RMSE Training Data: 0.0736202236085\n",
      "RMSE Testing Data:  0.0923213020886\n"
     ]
    }
   ],
   "source": [
    "# Set initial variables\n",
    "n_iter = 300\n",
    "\n",
    "#Features based on SelectFromModel(BayesianRidge)\n",
    "clf = BayesianRidge(n_iter = n_iter)\n",
    "good_feats_bayes = SelectFromModel(clf,threshold=\"mean\").fit(df_train_scaled,np.ravel(y_SalePrice))\n",
    "\n",
    "# Format training data\n",
    "df_train_bayes = format_good_features(good_feats_bayes, df_train)\n",
    "\n",
    "# train_test_split and scale\n",
    "X_train, X_test, y_train, y_test = split_scale(df_train_bayes, y_SalePrice)\n",
    "\n",
    "# Run BayesianRidge (ran some tests to find best alpha - changing it had no impact)\n",
    "bayes = BayesianRidge(n_iter = n_iter, verbose=True)\n",
    "bayes.fit(X_train, np.ravel(y_train))\n",
    "\n",
    "# Run predictions\n",
    "y_train_bayes = bayes.predict(X_train)\n",
    "y_test_bayes = bayes.predict(X_test)\n",
    "\n",
    "# Output findings\n",
    "output_findings(bayes, \"BayesianRidge\", df_train_bayes, y_test, y_train, \"SalePrice\", y_train_bayes, y_test_bayes)"
   ]
  },
  {
   "cell_type": "markdown",
   "metadata": {},
   "source": [
    "**RandomForestRegressor**\n"
   ]
  },
  {
   "cell_type": "code",
   "execution_count": 34,
   "metadata": {},
   "outputs": [
    {
     "name": "stdout",
     "output_type": "stream",
     "text": [
      "RandomForestRegressor picked 24 features and eliminated the other 0 features\n"
     ]
    },
    {
     "data": {
      "image/png": "[encoded data removed]",
      "text/plain": [
       "<matplotlib.figure.Figure at 0x260f8753940>"
      ]
     },
     "metadata": {},
     "output_type": "display_data"
    },
    {
     "name": "stdout",
     "output_type": "stream",
     "text": [
      "RMSE Training Data: 0.00348166132256\n",
      "RMSE Testing Data: 0.0100830971245\n"
     ]
    }
   ],
   "source": [
    "# Set initial variables\n",
    "n_estimators = 200\n",
    "\n",
    "#Features based on SelectFromModel(RandomForestRegressor)\n",
    "clf = RandomForestRegressor(n_estimators=n_estimators)\n",
    "good_feats_rfr = SelectFromModel(clf,threshold=\"mean\").fit(df_train_scaled,np.ravel(y_SalePrice))\n",
    "\n",
    "# Format training data\n",
    "df_train_rfr = format_good_features(good_feats_rfr, df_train)\n",
    "\n",
    "# train_test_split and scale\n",
    "X_train, X_test, y_train, y_test = split_scale(df_train_rfr, y_SalePrice)\n",
    "\n",
    "# Run RandomForestRegressor\n",
    "rfr = RandomForestRegressor(n_estimators=n_estimators)\n",
    "rfr.fit(X_train, np.ravel(y_train))\n",
    "\n",
    "# Run predictions\n",
    "y_train_rfr = rfr.predict(X_train)\n",
    "y_test_rfr = rfr.predict(X_test)\n",
    "\n",
    "# Output findings - cant use function as this uses .feature_importances_ rather than coefs_\n",
    "# Plot important coefficients\n",
    "coefs = pd.Series(rfr.feature_importances_, index = df_train_rfr.columns)\n",
    "print(\"RandomForestRegressor picked \" + str(sum(coefs != 0)) + \" features and eliminated the other \" +  \\\n",
    "      str(sum(coefs == 0)) + \" features\")\n",
    "coefs = coefs[coefs !=0]\n",
    "imp_coefs = pd.concat([coefs.sort_values().head(10),\n",
    "                     coefs.sort_values().tail(10)])\n",
    "imp_coefs.plot(kind = \"barh\")\n",
    "plt.title(\"Feature Importances in the RandomForestRegressor Model\")\n",
    "plt.xscale('log')\n",
    "plt.show()\n",
    "\n",
    "# Show RSME\n",
    "print(\"RMSE Training Data:\",np.sqrt(mean_squared_error(np.log1p(y_train),np.log1p(y_train_rfr))))\n",
    "print(\"RMSE Testing Data:\",np.sqrt(mean_squared_error(np.log1p(y_test),np.log1p(y_test_rfr))))"
   ]
  },
  {
   "cell_type": "markdown",
   "metadata": {},
   "source": [
    "# Predictions from each model"
   ]
  },
  {
   "cell_type": "code",
   "execution_count": 35,
   "metadata": {
    "collapsed": true
   },
   "outputs": [],
   "source": [
    "def get_predictions(model, filename, good_features, df):\n",
    "    # Get right features\n",
    "    df_model_test = format_good_features(good_features, df)\n",
    "    # Scale the features\n",
    "    scaler2 = RobustScaler()\n",
    "    df_model_test.loc[:,:] = scaler2.fit_transform(df_model_test.loc[:,:])\n",
    "    # Predict\n",
    "    predictions = model.predict(df_model_test)\n",
    "    predictions = pd.DataFrame(predictions, index=df['Id'], columns=['SalePrice'])\n",
    "    # Get real prices and save to csv\n",
    "    predictions = np.expm1(predictions)\n",
    "    predictions.to_csv(filename, index_label='Id')\n",
    "    return predictions"
   ]
  },
  {
   "cell_type": "code",
   "execution_count": 36,
   "metadata": {
    "collapsed": true
   },
   "outputs": [],
   "source": [
    "def mean_of_models(models, filename, index):\n",
    "    mean_model = pd.concat(models, axis=1)\n",
    "    mean_model = mean_model.mean(axis=1)\n",
    "    test_mean = pd.DataFrame(mean_model, index=index, columns=['SalePrice'])\n",
    "    test_mean.to_csv(filename, index_label='Id')\n",
    "    return test_mean"
   ]
  },
  {
   "cell_type": "markdown",
   "metadata": {},
   "source": [
    "**Ridge**"
   ]
  },
  {
   "cell_type": "code",
   "execution_count": 37,
   "metadata": {},
   "outputs": [],
   "source": [
    "test_ridge = get_predictions(ridge, 'test_ridge.csv', good_feats_ridge, df_test)"
   ]
  },
  {
   "cell_type": "markdown",
   "metadata": {},
   "source": [
    "**Lasso**"
   ]
  },
  {
   "cell_type": "code",
   "execution_count": 38,
   "metadata": {
    "collapsed": true
   },
   "outputs": [],
   "source": [
    "test_lasso = get_predictions(lasso, 'test_lasso.csv', good_feats_lasso, df_test)"
   ]
  },
  {
   "cell_type": "markdown",
   "metadata": {},
   "source": [
    "**BayesianRidge**"
   ]
  },
  {
   "cell_type": "code",
   "execution_count": 39,
   "metadata": {
    "collapsed": true
   },
   "outputs": [],
   "source": [
    "test_bayes = get_predictions(bayes, 'test_bayes.csv', good_feats_bayes, df_test)"
   ]
  },
  {
   "cell_type": "markdown",
   "metadata": {},
   "source": [
    "**RandomForestsRegressor**"
   ]
  },
  {
   "cell_type": "code",
   "execution_count": 40,
   "metadata": {
    "collapsed": true
   },
   "outputs": [],
   "source": [
    "test_rfr = get_predictions(rfr, 'test_rfr.csv', good_feats_rfr, df_test)"
   ]
  },
  {
   "cell_type": "markdown",
   "metadata": {},
   "source": [
    "**Mean of all models**"
   ]
  },
  {
   "cell_type": "code",
   "execution_count": 41,
   "metadata": {},
   "outputs": [
    {
     "data": {
      "text/html": [
       "<div>\n",
       "<style>\n",
       "    .dataframe thead tr:only-child th {\n",
       "        text-align: right;\n",
       "    }\n",
       "\n",
       "    .dataframe thead th {\n",
       "        text-align: left;\n",
       "    }\n",
       "\n",
       "    .dataframe tbody tr th {\n",
       "        vertical-align: top;\n",
       "    }\n",
       "</style>\n",
       "<table border=\"1\" class=\"dataframe\">\n",
       "  <thead>\n",
       "    <tr style=\"text-align: right;\">\n",
       "      <th></th>\n",
       "      <th>absdiff</th>\n",
       "      <th>avgdiff</th>\n",
       "      <th>ltdiff</th>\n",
       "      <th>gtdiff</th>\n",
       "      <th>avgltdiff</th>\n",
       "      <th>avggtdiff</th>\n",
       "    </tr>\n",
       "  </thead>\n",
       "  <tbody>\n",
       "    <tr>\n",
       "      <th>diff_bayes</th>\n",
       "      <td>0.023906</td>\n",
       "      <td>-0.008515</td>\n",
       "      <td>979</td>\n",
       "      <td>480</td>\n",
       "      <td>-0.024159</td>\n",
       "      <td>0.023390</td>\n",
       "    </tr>\n",
       "    <tr>\n",
       "      <th>diff_ridge</th>\n",
       "      <td>0.022861</td>\n",
       "      <td>-0.004919</td>\n",
       "      <td>890</td>\n",
       "      <td>569</td>\n",
       "      <td>-0.022770</td>\n",
       "      <td>0.023003</td>\n",
       "    </tr>\n",
       "    <tr>\n",
       "      <th>diff_lasso</th>\n",
       "      <td>0.027237</td>\n",
       "      <td>0.010789</td>\n",
       "      <td>627</td>\n",
       "      <td>832</td>\n",
       "      <td>-0.019138</td>\n",
       "      <td>0.033341</td>\n",
       "    </tr>\n",
       "    <tr>\n",
       "      <th>diff_rfr</th>\n",
       "      <td>0.062813</td>\n",
       "      <td>0.014367</td>\n",
       "      <td>618</td>\n",
       "      <td>841</td>\n",
       "      <td>-0.057186</td>\n",
       "      <td>0.066948</td>\n",
       "    </tr>\n",
       "  </tbody>\n",
       "</table>\n",
       "</div>"
      ],
      "text/plain": [
       "             absdiff   avgdiff  ltdiff  gtdiff  avgltdiff  avggtdiff\n",
       "diff_bayes  0.023906 -0.008515     979     480  -0.024159   0.023390\n",
       "diff_ridge  0.022861 -0.004919     890     569  -0.022770   0.023003\n",
       "diff_lasso  0.027237  0.010789     627     832  -0.019138   0.033341\n",
       "diff_rfr    0.062813  0.014367     618     841  -0.057186   0.066948"
      ]
     },
     "execution_count": 41,
     "metadata": {},
     "output_type": "execute_result"
    }
   ],
   "source": [
    "# Mean difference of model from mean of all models\n",
    "differ = pd.concat([test_bayes, test_ridge, test_lasso, test_rfr], axis=1)\n",
    "differ.set_axis(1, ['test_bayes', 'test_ridge', 'test_lasso', 'test_rfr'])\n",
    "differ['mean'] = differ.mean(axis=1)\n",
    "differ['diff_bayes'] = (differ.loc[:,'mean'] - differ.loc[:,'test_bayes']) / differ.loc[:,'test_bayes']\n",
    "#differ['diff_elas'] = (differ.loc[:,'mean'] - differ.loc[:,'test_elas']) / differ.loc[:,'test_elas']\n",
    "differ['diff_ridge'] = (differ.loc[:,'mean'] - differ.loc[:,'test_ridge']) / differ.loc[:,'test_ridge']\n",
    "differ['diff_lasso'] = (differ.loc[:,'mean'] - differ.loc[:,'test_lasso']) / differ.loc[:,'test_lasso']\n",
    "differ['diff_rfr'] = (differ.loc[:,'mean'] - differ.loc[:,'test_rfr']) / differ.loc[:,'test_rfr']\n",
    "\n",
    "# some stats on the models\n",
    "absdiff = differ.abs().mean()[-4:]\n",
    "avgdiff = differ.mean()[-4:]\n",
    "stddiff = differ.std()[-4:]\n",
    "ltdiff = differ.iloc[:,-4:][differ.iloc[:,-4:]<0].count()\n",
    "gtdiff = differ.iloc[:,-4:][differ.iloc[:,-4:]>0].count()\n",
    "avgltdiff = differ.iloc[:,-4:][differ.iloc[:,-4:]<0].mean()\n",
    "avggtdiff = differ.iloc[:,-4:][differ.iloc[:,-4:]>0].mean()\n",
    "\n",
    "# Absolute Difference, Average Difference, Count less than mean, Count greater than mean, \n",
    "# Average of those less than mean, Average of those greater than mean\n",
    "differ2 = pd.concat([absdiff, avgdiff, ltdiff, gtdiff, avgltdiff, avggtdiff], axis=1, \n",
    "                    keys=['absdiff', 'avgdiff', 'ltdiff', 'gtdiff', 'avgltdiff', 'avggtdiff'])\n",
    "differ2"
   ]
  },
  {
   "cell_type": "code",
   "execution_count": 42,
   "metadata": {},
   "outputs": [
    {
     "data": {
      "text/html": [
       "<div>\n",
       "<style>\n",
       "    .dataframe thead tr:only-child th {\n",
       "        text-align: right;\n",
       "    }\n",
       "\n",
       "    .dataframe thead th {\n",
       "        text-align: left;\n",
       "    }\n",
       "\n",
       "    .dataframe tbody tr th {\n",
       "        vertical-align: top;\n",
       "    }\n",
       "</style>\n",
       "<table border=\"1\" class=\"dataframe\">\n",
       "  <thead>\n",
       "    <tr style=\"text-align: right;\">\n",
       "      <th></th>\n",
       "      <th>SalePrice</th>\n",
       "    </tr>\n",
       "    <tr>\n",
       "      <th>Id</th>\n",
       "      <th></th>\n",
       "    </tr>\n",
       "  </thead>\n",
       "  <tbody>\n",
       "    <tr>\n",
       "      <th>1461</th>\n",
       "      <td>116527.472633</td>\n",
       "    </tr>\n",
       "    <tr>\n",
       "      <th>1462</th>\n",
       "      <td>165583.879029</td>\n",
       "    </tr>\n",
       "    <tr>\n",
       "      <th>1463</th>\n",
       "      <td>184141.184988</td>\n",
       "    </tr>\n",
       "    <tr>\n",
       "      <th>1464</th>\n",
       "      <td>194885.550926</td>\n",
       "    </tr>\n",
       "    <tr>\n",
       "      <th>1465</th>\n",
       "      <td>192129.455218</td>\n",
       "    </tr>\n",
       "    <tr>\n",
       "      <th>1466</th>\n",
       "      <td>173779.342076</td>\n",
       "    </tr>\n",
       "    <tr>\n",
       "      <th>1467</th>\n",
       "      <td>178436.925802</td>\n",
       "    </tr>\n",
       "    <tr>\n",
       "      <th>1468</th>\n",
       "      <td>164991.372673</td>\n",
       "    </tr>\n",
       "    <tr>\n",
       "      <th>1469</th>\n",
       "      <td>196696.298692</td>\n",
       "    </tr>\n",
       "    <tr>\n",
       "      <th>1470</th>\n",
       "      <td>119392.317643</td>\n",
       "    </tr>\n",
       "    <tr>\n",
       "      <th>1471</th>\n",
       "      <td>181508.109731</td>\n",
       "    </tr>\n",
       "    <tr>\n",
       "      <th>1472</th>\n",
       "      <td>98608.615770</td>\n",
       "    </tr>\n",
       "    <tr>\n",
       "      <th>1473</th>\n",
       "      <td>103612.267136</td>\n",
       "    </tr>\n",
       "    <tr>\n",
       "      <th>1474</th>\n",
       "      <td>149480.279533</td>\n",
       "    </tr>\n",
       "    <tr>\n",
       "      <th>1475</th>\n",
       "      <td>116291.980403</td>\n",
       "    </tr>\n",
       "    <tr>\n",
       "      <th>1476</th>\n",
       "      <td>333221.316240</td>\n",
       "    </tr>\n",
       "    <tr>\n",
       "      <th>1477</th>\n",
       "      <td>233506.484326</td>\n",
       "    </tr>\n",
       "    <tr>\n",
       "      <th>1478</th>\n",
       "      <td>302676.980602</td>\n",
       "    </tr>\n",
       "    <tr>\n",
       "      <th>1479</th>\n",
       "      <td>302929.715806</td>\n",
       "    </tr>\n",
       "    <tr>\n",
       "      <th>1480</th>\n",
       "      <td>437869.541054</td>\n",
       "    </tr>\n",
       "    <tr>\n",
       "      <th>1481</th>\n",
       "      <td>312899.491303</td>\n",
       "    </tr>\n",
       "    <tr>\n",
       "      <th>1482</th>\n",
       "      <td>209166.076961</td>\n",
       "    </tr>\n",
       "    <tr>\n",
       "      <th>1483</th>\n",
       "      <td>178680.702637</td>\n",
       "    </tr>\n",
       "    <tr>\n",
       "      <th>1484</th>\n",
       "      <td>165222.447844</td>\n",
       "    </tr>\n",
       "    <tr>\n",
       "      <th>1485</th>\n",
       "      <td>183639.374014</td>\n",
       "    </tr>\n",
       "    <tr>\n",
       "      <th>1486</th>\n",
       "      <td>194977.910740</td>\n",
       "    </tr>\n",
       "    <tr>\n",
       "      <th>1487</th>\n",
       "      <td>317374.477501</td>\n",
       "    </tr>\n",
       "    <tr>\n",
       "      <th>1488</th>\n",
       "      <td>243113.731680</td>\n",
       "    </tr>\n",
       "    <tr>\n",
       "      <th>1489</th>\n",
       "      <td>189016.934284</td>\n",
       "    </tr>\n",
       "    <tr>\n",
       "      <th>1490</th>\n",
       "      <td>229723.446930</td>\n",
       "    </tr>\n",
       "    <tr>\n",
       "      <th>...</th>\n",
       "      <td>...</td>\n",
       "    </tr>\n",
       "    <tr>\n",
       "      <th>2890</th>\n",
       "      <td>79934.006976</td>\n",
       "    </tr>\n",
       "    <tr>\n",
       "      <th>2891</th>\n",
       "      <td>142672.247508</td>\n",
       "    </tr>\n",
       "    <tr>\n",
       "      <th>2892</th>\n",
       "      <td>50586.123400</td>\n",
       "    </tr>\n",
       "    <tr>\n",
       "      <th>2893</th>\n",
       "      <td>84398.701774</td>\n",
       "    </tr>\n",
       "    <tr>\n",
       "      <th>2894</th>\n",
       "      <td>59618.212155</td>\n",
       "    </tr>\n",
       "    <tr>\n",
       "      <th>2895</th>\n",
       "      <td>307698.983954</td>\n",
       "    </tr>\n",
       "    <tr>\n",
       "      <th>2896</th>\n",
       "      <td>266434.002795</td>\n",
       "    </tr>\n",
       "    <tr>\n",
       "      <th>2897</th>\n",
       "      <td>212008.914898</td>\n",
       "    </tr>\n",
       "    <tr>\n",
       "      <th>2898</th>\n",
       "      <td>150071.739631</td>\n",
       "    </tr>\n",
       "    <tr>\n",
       "      <th>2899</th>\n",
       "      <td>209181.449467</td>\n",
       "    </tr>\n",
       "    <tr>\n",
       "      <th>2900</th>\n",
       "      <td>167606.466991</td>\n",
       "    </tr>\n",
       "    <tr>\n",
       "      <th>2901</th>\n",
       "      <td>221842.710384</td>\n",
       "    </tr>\n",
       "    <tr>\n",
       "      <th>2902</th>\n",
       "      <td>189020.849097</td>\n",
       "    </tr>\n",
       "    <tr>\n",
       "      <th>2903</th>\n",
       "      <td>304833.391356</td>\n",
       "    </tr>\n",
       "    <tr>\n",
       "      <th>2904</th>\n",
       "      <td>326584.964878</td>\n",
       "    </tr>\n",
       "    <tr>\n",
       "      <th>2905</th>\n",
       "      <td>78283.012197</td>\n",
       "    </tr>\n",
       "    <tr>\n",
       "      <th>2906</th>\n",
       "      <td>184719.050064</td>\n",
       "    </tr>\n",
       "    <tr>\n",
       "      <th>2907</th>\n",
       "      <td>111717.705079</td>\n",
       "    </tr>\n",
       "    <tr>\n",
       "      <th>2908</th>\n",
       "      <td>127816.589654</td>\n",
       "    </tr>\n",
       "    <tr>\n",
       "      <th>2909</th>\n",
       "      <td>154279.897815</td>\n",
       "    </tr>\n",
       "    <tr>\n",
       "      <th>2910</th>\n",
       "      <td>80119.299433</td>\n",
       "    </tr>\n",
       "    <tr>\n",
       "      <th>2911</th>\n",
       "      <td>84922.485727</td>\n",
       "    </tr>\n",
       "    <tr>\n",
       "      <th>2912</th>\n",
       "      <td>154237.611583</td>\n",
       "    </tr>\n",
       "    <tr>\n",
       "      <th>2913</th>\n",
       "      <td>95751.105175</td>\n",
       "    </tr>\n",
       "    <tr>\n",
       "      <th>2914</th>\n",
       "      <td>85524.506601</td>\n",
       "    </tr>\n",
       "    <tr>\n",
       "      <th>2915</th>\n",
       "      <td>92747.736301</td>\n",
       "    </tr>\n",
       "    <tr>\n",
       "      <th>2916</th>\n",
       "      <td>95473.319019</td>\n",
       "    </tr>\n",
       "    <tr>\n",
       "      <th>2917</th>\n",
       "      <td>179381.671197</td>\n",
       "    </tr>\n",
       "    <tr>\n",
       "      <th>2918</th>\n",
       "      <td>125678.628338</td>\n",
       "    </tr>\n",
       "    <tr>\n",
       "      <th>2919</th>\n",
       "      <td>217868.379016</td>\n",
       "    </tr>\n",
       "  </tbody>\n",
       "</table>\n",
       "<p>1459 rows × 1 columns</p>\n",
       "</div>"
      ],
      "text/plain": [
       "          SalePrice\n",
       "Id                 \n",
       "1461  116527.472633\n",
       "1462  165583.879029\n",
       "1463  184141.184988\n",
       "1464  194885.550926\n",
       "1465  192129.455218\n",
       "1466  173779.342076\n",
       "1467  178436.925802\n",
       "1468  164991.372673\n",
       "1469  196696.298692\n",
       "1470  119392.317643\n",
       "1471  181508.109731\n",
       "1472   98608.615770\n",
       "1473  103612.267136\n",
       "1474  149480.279533\n",
       "1475  116291.980403\n",
       "1476  333221.316240\n",
       "1477  233506.484326\n",
       "1478  302676.980602\n",
       "1479  302929.715806\n",
       "1480  437869.541054\n",
       "1481  312899.491303\n",
       "1482  209166.076961\n",
       "1483  178680.702637\n",
       "1484  165222.447844\n",
       "1485  183639.374014\n",
       "1486  194977.910740\n",
       "1487  317374.477501\n",
       "1488  243113.731680\n",
       "1489  189016.934284\n",
       "1490  229723.446930\n",
       "...             ...\n",
       "2890   79934.006976\n",
       "2891  142672.247508\n",
       "2892   50586.123400\n",
       "2893   84398.701774\n",
       "2894   59618.212155\n",
       "2895  307698.983954\n",
       "2896  266434.002795\n",
       "2897  212008.914898\n",
       "2898  150071.739631\n",
       "2899  209181.449467\n",
       "2900  167606.466991\n",
       "2901  221842.710384\n",
       "2902  189020.849097\n",
       "2903  304833.391356\n",
       "2904  326584.964878\n",
       "2905   78283.012197\n",
       "2906  184719.050064\n",
       "2907  111717.705079\n",
       "2908  127816.589654\n",
       "2909  154279.897815\n",
       "2910   80119.299433\n",
       "2911   84922.485727\n",
       "2912  154237.611583\n",
       "2913   95751.105175\n",
       "2914   85524.506601\n",
       "2915   92747.736301\n",
       "2916   95473.319019\n",
       "2917  179381.671197\n",
       "2918  125678.628338\n",
       "2919  217868.379016\n",
       "\n",
       "[1459 rows x 1 columns]"
      ]
     },
     "execution_count": 42,
     "metadata": {},
     "output_type": "execute_result"
    }
   ],
   "source": [
    "mean_of_models([test_bayes, test_ridge, test_lasso, test_rfr], 'test_mean_all.csv', df_test['Id'])"
   ]
  },
  {
   "cell_type": "code",
   "execution_count": 43,
   "metadata": {},
   "outputs": [
    {
     "data": {
      "text/html": [
       "<div>\n",
       "<style>\n",
       "    .dataframe thead tr:only-child th {\n",
       "        text-align: right;\n",
       "    }\n",
       "\n",
       "    .dataframe thead th {\n",
       "        text-align: left;\n",
       "    }\n",
       "\n",
       "    .dataframe tbody tr th {\n",
       "        vertical-align: top;\n",
       "    }\n",
       "</style>\n",
       "<table border=\"1\" class=\"dataframe\">\n",
       "  <thead>\n",
       "    <tr style=\"text-align: right;\">\n",
       "      <th></th>\n",
       "      <th>SalePrice</th>\n",
       "    </tr>\n",
       "    <tr>\n",
       "      <th>Id</th>\n",
       "      <th></th>\n",
       "    </tr>\n",
       "  </thead>\n",
       "  <tbody>\n",
       "    <tr>\n",
       "      <th>1461</th>\n",
       "      <td>112283.269865</td>\n",
       "    </tr>\n",
       "    <tr>\n",
       "      <th>1462</th>\n",
       "      <td>165164.444202</td>\n",
       "    </tr>\n",
       "    <tr>\n",
       "      <th>1463</th>\n",
       "      <td>187079.961401</td>\n",
       "    </tr>\n",
       "    <tr>\n",
       "      <th>1464</th>\n",
       "      <td>202852.216218</td>\n",
       "    </tr>\n",
       "    <tr>\n",
       "      <th>1465</th>\n",
       "      <td>192159.193344</td>\n",
       "    </tr>\n",
       "    <tr>\n",
       "      <th>1466</th>\n",
       "      <td>172347.960502</td>\n",
       "    </tr>\n",
       "    <tr>\n",
       "      <th>1467</th>\n",
       "      <td>180154.183548</td>\n",
       "    </tr>\n",
       "    <tr>\n",
       "      <th>1468</th>\n",
       "      <td>165640.753534</td>\n",
       "    </tr>\n",
       "    <tr>\n",
       "      <th>1469</th>\n",
       "      <td>200809.787819</td>\n",
       "    </tr>\n",
       "    <tr>\n",
       "      <th>1470</th>\n",
       "      <td>115937.411107</td>\n",
       "    </tr>\n",
       "    <tr>\n",
       "      <th>1471</th>\n",
       "      <td>178482.454680</td>\n",
       "    </tr>\n",
       "    <tr>\n",
       "      <th>1472</th>\n",
       "      <td>99472.379913</td>\n",
       "    </tr>\n",
       "    <tr>\n",
       "      <th>1473</th>\n",
       "      <td>100494.514135</td>\n",
       "    </tr>\n",
       "    <tr>\n",
       "      <th>1474</th>\n",
       "      <td>148872.926969</td>\n",
       "    </tr>\n",
       "    <tr>\n",
       "      <th>1475</th>\n",
       "      <td>110449.460844</td>\n",
       "    </tr>\n",
       "    <tr>\n",
       "      <th>1476</th>\n",
       "      <td>337279.735033</td>\n",
       "    </tr>\n",
       "    <tr>\n",
       "      <th>1477</th>\n",
       "      <td>229431.653693</td>\n",
       "    </tr>\n",
       "    <tr>\n",
       "      <th>1478</th>\n",
       "      <td>311352.793763</td>\n",
       "    </tr>\n",
       "    <tr>\n",
       "      <th>1479</th>\n",
       "      <td>306925.425177</td>\n",
       "    </tr>\n",
       "    <tr>\n",
       "      <th>1480</th>\n",
       "      <td>452960.528396</td>\n",
       "    </tr>\n",
       "    <tr>\n",
       "      <th>1481</th>\n",
       "      <td>312610.712692</td>\n",
       "    </tr>\n",
       "    <tr>\n",
       "      <th>1482</th>\n",
       "      <td>211515.554965</td>\n",
       "    </tr>\n",
       "    <tr>\n",
       "      <th>1483</th>\n",
       "      <td>184910.145592</td>\n",
       "    </tr>\n",
       "    <tr>\n",
       "      <th>1484</th>\n",
       "      <td>163938.592392</td>\n",
       "    </tr>\n",
       "    <tr>\n",
       "      <th>1485</th>\n",
       "      <td>188456.636975</td>\n",
       "    </tr>\n",
       "    <tr>\n",
       "      <th>1486</th>\n",
       "      <td>196456.045169</td>\n",
       "    </tr>\n",
       "    <tr>\n",
       "      <th>1487</th>\n",
       "      <td>314940.319466</td>\n",
       "    </tr>\n",
       "    <tr>\n",
       "      <th>1488</th>\n",
       "      <td>241887.994534</td>\n",
       "    </tr>\n",
       "    <tr>\n",
       "      <th>1489</th>\n",
       "      <td>190550.231977</td>\n",
       "    </tr>\n",
       "    <tr>\n",
       "      <th>1490</th>\n",
       "      <td>238215.915125</td>\n",
       "    </tr>\n",
       "    <tr>\n",
       "      <th>...</th>\n",
       "      <td>...</td>\n",
       "    </tr>\n",
       "    <tr>\n",
       "      <th>2890</th>\n",
       "      <td>77677.014786</td>\n",
       "    </tr>\n",
       "    <tr>\n",
       "      <th>2891</th>\n",
       "      <td>143419.873475</td>\n",
       "    </tr>\n",
       "    <tr>\n",
       "      <th>2892</th>\n",
       "      <td>43133.172709</td>\n",
       "    </tr>\n",
       "    <tr>\n",
       "      <th>2893</th>\n",
       "      <td>74466.485538</td>\n",
       "    </tr>\n",
       "    <tr>\n",
       "      <th>2894</th>\n",
       "      <td>55465.265511</td>\n",
       "    </tr>\n",
       "    <tr>\n",
       "      <th>2895</th>\n",
       "      <td>319776.373037</td>\n",
       "    </tr>\n",
       "    <tr>\n",
       "      <th>2896</th>\n",
       "      <td>267533.403137</td>\n",
       "    </tr>\n",
       "    <tr>\n",
       "      <th>2897</th>\n",
       "      <td>225696.894161</td>\n",
       "    </tr>\n",
       "    <tr>\n",
       "      <th>2898</th>\n",
       "      <td>151405.055852</td>\n",
       "    </tr>\n",
       "    <tr>\n",
       "      <th>2899</th>\n",
       "      <td>204395.677957</td>\n",
       "    </tr>\n",
       "    <tr>\n",
       "      <th>2900</th>\n",
       "      <td>167462.473909</td>\n",
       "    </tr>\n",
       "    <tr>\n",
       "      <th>2901</th>\n",
       "      <td>235347.758778</td>\n",
       "    </tr>\n",
       "    <tr>\n",
       "      <th>2902</th>\n",
       "      <td>188841.210995</td>\n",
       "    </tr>\n",
       "    <tr>\n",
       "      <th>2903</th>\n",
       "      <td>299187.024497</td>\n",
       "    </tr>\n",
       "    <tr>\n",
       "      <th>2904</th>\n",
       "      <td>323468.924196</td>\n",
       "    </tr>\n",
       "    <tr>\n",
       "      <th>2905</th>\n",
       "      <td>73206.815762</td>\n",
       "    </tr>\n",
       "    <tr>\n",
       "      <th>2906</th>\n",
       "      <td>181893.314586</td>\n",
       "    </tr>\n",
       "    <tr>\n",
       "      <th>2907</th>\n",
       "      <td>113542.376347</td>\n",
       "    </tr>\n",
       "    <tr>\n",
       "      <th>2908</th>\n",
       "      <td>128268.062191</td>\n",
       "    </tr>\n",
       "    <tr>\n",
       "      <th>2909</th>\n",
       "      <td>158311.060446</td>\n",
       "    </tr>\n",
       "    <tr>\n",
       "      <th>2910</th>\n",
       "      <td>79410.253494</td>\n",
       "    </tr>\n",
       "    <tr>\n",
       "      <th>2911</th>\n",
       "      <td>82816.314086</td>\n",
       "    </tr>\n",
       "    <tr>\n",
       "      <th>2912</th>\n",
       "      <td>156240.275428</td>\n",
       "    </tr>\n",
       "    <tr>\n",
       "      <th>2913</th>\n",
       "      <td>92652.053372</td>\n",
       "    </tr>\n",
       "    <tr>\n",
       "      <th>2914</th>\n",
       "      <td>84190.202448</td>\n",
       "    </tr>\n",
       "    <tr>\n",
       "      <th>2915</th>\n",
       "      <td>93539.725496</td>\n",
       "    </tr>\n",
       "    <tr>\n",
       "      <th>2916</th>\n",
       "      <td>93911.883761</td>\n",
       "    </tr>\n",
       "    <tr>\n",
       "      <th>2917</th>\n",
       "      <td>182198.687532</td>\n",
       "    </tr>\n",
       "    <tr>\n",
       "      <th>2918</th>\n",
       "      <td>128811.842885</td>\n",
       "    </tr>\n",
       "    <tr>\n",
       "      <th>2919</th>\n",
       "      <td>220627.372098</td>\n",
       "    </tr>\n",
       "  </tbody>\n",
       "</table>\n",
       "<p>1459 rows × 1 columns</p>\n",
       "</div>"
      ],
      "text/plain": [
       "          SalePrice\n",
       "Id                 \n",
       "1461  112283.269865\n",
       "1462  165164.444202\n",
       "1463  187079.961401\n",
       "1464  202852.216218\n",
       "1465  192159.193344\n",
       "1466  172347.960502\n",
       "1467  180154.183548\n",
       "1468  165640.753534\n",
       "1469  200809.787819\n",
       "1470  115937.411107\n",
       "1471  178482.454680\n",
       "1472   99472.379913\n",
       "1473  100494.514135\n",
       "1474  148872.926969\n",
       "1475  110449.460844\n",
       "1476  337279.735033\n",
       "1477  229431.653693\n",
       "1478  311352.793763\n",
       "1479  306925.425177\n",
       "1480  452960.528396\n",
       "1481  312610.712692\n",
       "1482  211515.554965\n",
       "1483  184910.145592\n",
       "1484  163938.592392\n",
       "1485  188456.636975\n",
       "1486  196456.045169\n",
       "1487  314940.319466\n",
       "1488  241887.994534\n",
       "1489  190550.231977\n",
       "1490  238215.915125\n",
       "...             ...\n",
       "2890   77677.014786\n",
       "2891  143419.873475\n",
       "2892   43133.172709\n",
       "2893   74466.485538\n",
       "2894   55465.265511\n",
       "2895  319776.373037\n",
       "2896  267533.403137\n",
       "2897  225696.894161\n",
       "2898  151405.055852\n",
       "2899  204395.677957\n",
       "2900  167462.473909\n",
       "2901  235347.758778\n",
       "2902  188841.210995\n",
       "2903  299187.024497\n",
       "2904  323468.924196\n",
       "2905   73206.815762\n",
       "2906  181893.314586\n",
       "2907  113542.376347\n",
       "2908  128268.062191\n",
       "2909  158311.060446\n",
       "2910   79410.253494\n",
       "2911   82816.314086\n",
       "2912  156240.275428\n",
       "2913   92652.053372\n",
       "2914   84190.202448\n",
       "2915   93539.725496\n",
       "2916   93911.883761\n",
       "2917  182198.687532\n",
       "2918  128811.842885\n",
       "2919  220627.372098\n",
       "\n",
       "[1459 rows x 1 columns]"
      ]
     },
     "execution_count": 43,
     "metadata": {},
     "output_type": "execute_result"
    }
   ],
   "source": [
    "# try some different combos\n",
    "mean_of_models([test_bayes, test_ridge, test_lasso], 'test_mean_bayes_ridge_lasso.csv', df_test['Id'])"
   ]
  },
  {
   "cell_type": "code",
   "execution_count": null,
   "metadata": {
    "collapsed": true
   },
   "outputs": [],
   "source": []
  }
 ],
 "metadata": {
  "kernelspec": {
   "display_name": "Python [default]",
   "language": "python",
   "name": "python3"
  },
  "language_info": {
   "codemirror_mode": {
    "name": "ipython",
    "version": 3
   },
   "file_extension": ".py",
   "mimetype": "text/x-python",
   "name": "python",
   "nbconvert_exporter": "python",
   "pygments_lexer": "ipython3",
   "version": "3.6.1"
  },
  "varInspector": {
   "cols": {
    "lenName": 16,
    "lenType": 16,
    "lenVar": 40
   },
   "kernels_config": {
    "python": {
     "delete_cmd_postfix": "",
     "delete_cmd_prefix": "del ",
     "library": "var_list.py",
     "varRefreshCmd": "print(var_dic_list())"
    },
    "r": {
     "delete_cmd_postfix": ") ",
     "delete_cmd_prefix": "rm(",
     "library": "var_list.r",
     "varRefreshCmd": "cat(var_dic_list()) "
    }
   },
   "position": {
    "height": "473px",
    "left": "1551px",
    "right": "20px",
    "top": "120px",
    "width": "350px"
   },
   "types_to_exclude": [
    "module",
    "function",
    "builtin_function_or_method",
    "instance",
    "_Feature"
   ],
   "window_display": false
  }
 },
 "nbformat": 4,
 "nbformat_minor": 2
}
